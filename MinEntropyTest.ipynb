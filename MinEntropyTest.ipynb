{
 "cells": [
  {
   "cell_type": "code",
   "execution_count": 1,
   "metadata": {},
   "outputs": [],
   "source": [
    "import os, sys\n",
    "sys.path.append(\"./src\")\n",
    "\n",
    "from MinEntropy import MitosisClassifier"
   ]
  },
  {
   "cell_type": "code",
   "execution_count": 2,
   "metadata": {},
   "outputs": [],
   "source": [
    "basepath = '/root/projects/three_channel/Apply'\n",
    "mc = MitosisClassifier(basepath)"
   ]
  },
  {
   "cell_type": "code",
   "execution_count": 3,
   "metadata": {},
   "outputs": [
    {
     "name": "stdout",
     "output_type": "stream",
     "text": [
      "ready to run.\n",
      "XModel done\n",
      "YModel done\n",
      "ZModel done\n",
      "df_pred:  (18339, 11)\n",
      "finished.\n"
     ]
    }
   ],
   "source": [
    "mc.run_me()"
   ]
  },
  {
   "cell_type": "code",
   "execution_count": 6,
   "metadata": {},
   "outputs": [
    {
     "data": {
      "text/html": [
       "<div>\n",
       "<style scoped>\n",
       "    .dataframe tbody tr th:only-of-type {\n",
       "        vertical-align: middle;\n",
       "    }\n",
       "\n",
       "    .dataframe tbody tr th {\n",
       "        vertical-align: top;\n",
       "    }\n",
       "\n",
       "    .dataframe thead th {\n",
       "        text-align: right;\n",
       "    }\n",
       "</style>\n",
       "<table border=\"1\" class=\"dataframe\">\n",
       "  <thead>\n",
       "    <tr style=\"text-align: right;\">\n",
       "      <th></th>\n",
       "      <th>axis</th>\n",
       "      <th>model</th>\n",
       "      <th>order</th>\n",
       "    </tr>\n",
       "  </thead>\n",
       "  <tbody>\n",
       "    <tr>\n",
       "      <th>0</th>\n",
       "      <td>X</td>\n",
       "      <td>/allen/aics/modeling/jamies/projects/three_cha...</td>\n",
       "      <td>0</td>\n",
       "    </tr>\n",
       "    <tr>\n",
       "      <th>1</th>\n",
       "      <td>Y</td>\n",
       "      <td>/allen/aics/modeling/jamies/projects/three_cha...</td>\n",
       "      <td>1</td>\n",
       "    </tr>\n",
       "    <tr>\n",
       "      <th>2</th>\n",
       "      <td>Z</td>\n",
       "      <td>/allen/aics/modeling/jamies/projects/three_cha...</td>\n",
       "      <td>2</td>\n",
       "    </tr>\n",
       "  </tbody>\n",
       "</table>\n",
       "</div>"
      ],
      "text/plain": [
       "  axis                                              model  order\n",
       "0    X  /allen/aics/modeling/jamies/projects/three_cha...      0\n",
       "1    Y  /allen/aics/modeling/jamies/projects/three_cha...      1\n",
       "2    Z  /allen/aics/modeling/jamies/projects/three_cha...      2"
      ]
     },
     "execution_count": 6,
     "metadata": {},
     "output_type": "execute_result"
    }
   ],
   "source": [
    "import pandas as pd\n",
    "model_files = []\n",
    "model_files.append({'model': '/allen/aics/modeling/jamies/projects/three_channel/XYZ3/X/saved_model_10E_01.pt', 'axis':'X', 'order': 0})\n",
    "model_files.append({'model': '/allen/aics/modeling/jamies/projects/three_channel/XYZ3/Y/saved_model_10E_03.pt', 'axis':'Y', 'order': 1})\n",
    "model_files.append({'model': '/allen/aics/modeling/jamies/projects/three_channel/XYZ3/Z/saved_model_10E_09.pt', 'axis':'Z', 'order': 2})\n",
    "t = pd.DataFrame(model_files)\n",
    "t"
   ]
  },
  {
   "cell_type": "code",
   "execution_count": 2,
   "metadata": {},
   "outputs": [],
   "source": [
    "import numpy as np\n",
    "import pandas as pd\n",
    "import json\n",
    "import datasetdatabase as dsdb\n",
    "dbConnectionInfo = json.load(open('/allen/aics/modeling/jamies/projects/dbconnect/configs.json', 'r'))\n",
    "mngr = dsdb.ConnectionManager(user=\"jamies\")\n",
    "mngr.add_connections(dbConnectionInfo)\n",
    "prod = mngr.connect('prod')\n",
    "dfio = prod.get_dataset(1)\n",
    "        #dfio['save_flat_proj_reg_path'] = '/allen/aics/modeling/PIPELINE/2018-07-23-17:20:57/' + dfio['save_flat_proj_reg_path']\n",
    "        #dfio['target_numeric'] = -1\n",
    "df = dfio.copy(deep=True)"
   ]
  },
  {
   "cell_type": "code",
   "execution_count": 7,
   "metadata": {},
   "outputs": [],
   "source": [
    "df['target_numeric']=0"
   ]
  },
  {
   "cell_type": "code",
   "execution_count": 8,
   "metadata": {},
   "outputs": [],
   "source": [
    "mc = MitosisClassifier('/root/projects/three_channel/Apply2')"
   ]
  },
  {
   "cell_type": "code",
   "execution_count": 9,
   "metadata": {},
   "outputs": [
    {
     "data": {
      "text/plain": [
       "'/root/projects/three_channel/Apply2'"
      ]
     },
     "execution_count": 9,
     "metadata": {},
     "output_type": "execute_result"
    }
   ],
   "source": [
    "mc.df"
   ]
  },
  {
   "cell_type": "code",
   "execution_count": null,
   "metadata": {},
   "outputs": [],
   "source": []
  }
 ],
 "metadata": {
  "kernelspec": {
   "display_name": "Python 3",
   "language": "python",
   "name": "python3"
  },
  "language_info": {
   "codemirror_mode": {
    "name": "ipython",
    "version": 3
   },
   "file_extension": ".py",
   "mimetype": "text/x-python",
   "name": "python",
   "nbconvert_exporter": "python",
   "pygments_lexer": "ipython3",
   "version": "3.6.4"
  }
 },
 "nbformat": 4,
 "nbformat_minor": 2
}
